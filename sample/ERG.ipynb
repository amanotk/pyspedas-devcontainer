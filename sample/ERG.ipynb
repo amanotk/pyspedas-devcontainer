{
 "cells": [
  {
   "cell_type": "code",
   "execution_count": null,
   "metadata": {},
   "outputs": [],
   "source": [
    "import pyspedas\n",
    "import pytplot"
   ]
  },
  {
   "cell_type": "code",
   "execution_count": null,
   "metadata": {},
   "outputs": [],
   "source": [
    "trange = [\"2017-03-27\", \"2017-03-28\"]\n",
    "pyspedas.erg.mgf(trange=trange, time_clip=True)\n",
    "pyspedas.erg.mepe(trange=trange, time_clip=True)\n",
    "pyspedas.erg.lepe(trange=trange, time_clip=True)"
   ]
  },
  {
   "cell_type": "code",
   "execution_count": null,
   "metadata": {},
   "outputs": [],
   "source": [
    "tplotvars = [\n",
    "    \"erg_mgf_l2_mag_8sec_sm\",\n",
    "    \"erg_lepe_l2_omniflux_FEDO\",\n",
    "    \"erg_mepe_l2_omniflux_FEDO\",\n",
    "]\n",
    "pyspedas.tplot(tplotvars)"
   ]
  },
  {
   "cell_type": "code",
   "execution_count": null,
   "metadata": {},
   "outputs": [],
   "source": []
  }
 ],
 "metadata": {
  "kernelspec": {
   "display_name": "Python 3",
   "language": "python",
   "name": "python3"
  },
  "language_info": {
   "codemirror_mode": {
    "name": "ipython",
    "version": 3
   },
   "file_extension": ".py",
   "mimetype": "text/x-python",
   "name": "python",
   "nbconvert_exporter": "python",
   "pygments_lexer": "ipython3",
   "version": "3.10.14"
  },
  "orig_nbformat": 4
 },
 "nbformat": 4,
 "nbformat_minor": 2
}
