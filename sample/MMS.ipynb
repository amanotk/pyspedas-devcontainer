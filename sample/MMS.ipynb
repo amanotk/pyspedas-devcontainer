{
 "cells": [
  {
   "cell_type": "code",
   "execution_count": null,
   "metadata": {},
   "outputs": [],
   "source": [
    "import pyspedas\n",
    "import pytplot"
   ]
  },
  {
   "cell_type": "code",
   "execution_count": null,
   "metadata": {},
   "outputs": [],
   "source": [
    "trange = [\"2016-12-26 07:55\", \"2016-12-26 08:05\"]\n",
    "pyspedas.mms.fgm(trange=trange, probe=1, time_clip=True)\n",
    "pyspedas.mms.fpi(\n",
    "    trange=trange, probe=1, datatype=\"dis-moms\", center_measurement=True, time_clip=True\n",
    ")\n",
    "pyspedas.mms.fpi(\n",
    "    trange=trange, probe=1, datatype=\"des-moms\", center_measurement=True, time_clip=True\n",
    ")"
   ]
  },
  {
   "cell_type": "code",
   "execution_count": null,
   "metadata": {},
   "outputs": [],
   "source": [
    "tplotvars = [\n",
    "    \"mms1_fgm_b_gse_srvy_l2\",\n",
    "    \"mms1_dis_numberdensity_fast\",\n",
    "    \"mms1_dis_bulkv_gse_fast\",\n",
    "]\n",
    "pyspedas.tplot(tplotvars)"
   ]
  }
 ],
 "metadata": {
  "kernelspec": {
   "display_name": "Python 3",
   "language": "python",
   "name": "python3"
  },
  "language_info": {
   "codemirror_mode": {
    "name": "ipython",
    "version": 3
   },
   "file_extension": ".py",
   "mimetype": "text/x-python",
   "name": "python",
   "nbconvert_exporter": "python",
   "pygments_lexer": "ipython3",
   "version": "3.10.14"
  }
 },
 "nbformat": 4,
 "nbformat_minor": 2
}
